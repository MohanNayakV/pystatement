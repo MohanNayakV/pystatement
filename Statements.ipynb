{
 "cells": [
  {
   "cell_type": "code",
   "execution_count": 2,
   "id": "fba23d07-07b0-4775-996a-1d13ecae4691",
   "metadata": {},
   "outputs": [
    {
     "ename": "IndexError",
     "evalue": "list index out of range",
     "output_type": "error",
     "traceback": [
      "\u001b[0;31m---------------------------------------------------------------------------\u001b[0m\n\u001b[0;31mIndexError\u001b[0m                                Traceback (most recent call last)",
      "\u001b[0;31mIndexError\u001b[0m: list index out of range\n\u001b[0;31m---------------------------------------------------------------------------\u001b[0m"
     ]
    }
   ],
   "source": [
    "#Instructions written in the source code for execution are called statements. There are different types of statements in the Python programming language like Assignment statements, Conditional statements, Looping statements, etc. These all help the user to get the required output. For example, n = 50 is an assignment statement.\n",
    "#Multi-Line Statements: Statements in Python can be extended to one or more lines using parentheses (), braces {}, square brackets [], semi-colon (;), continuation character slash (\\). When the programmer needs to do long calculations and cannot fit his statements into one line, one can make use of these characters. "
   ]
  },
  {
   "cell_type": "code",
   "execution_count": 3,
   "id": "26967e4b-a9f8-451f-813f-f9ba6361ad9b",
   "metadata": {},
   "outputs": [
    {
     "data": {
      "text/plain": [
       "'Declared using Continuation Character (\\\\):\\ns = 1 + 2 + 3 +     4 + 5 + 6 +     7 + 8 + 9'"
      ]
     },
     "execution_count": 3,
     "metadata": {},
     "output_type": "execute_result"
    }
   ],
   "source": [
    "'''Declared using Continuation Character (\\):\n",
    "s = 1 + 2 + 3 + \\\n",
    "    4 + 5 + 6 + \\\n",
    "    7 + 8 + 9'''"
   ]
  },
  {
   "cell_type": "code",
   "execution_count": 4,
   "id": "3f12fff7-171d-4038-a32b-6c5eb4394846",
   "metadata": {},
   "outputs": [
    {
     "data": {
      "text/plain": [
       "'Declared using parentheses () :\\nn = (1 * 2 * 3 + 7 + 8 + 9)'"
      ]
     },
     "execution_count": 4,
     "metadata": {},
     "output_type": "execute_result"
    }
   ],
   "source": [
    "'''Declared using parentheses () :\n",
    "n = (1 * 2 * 3 + 7 + 8 + 9)'''"
   ]
  },
  {
   "cell_type": "code",
   "execution_count": 5,
   "id": "f3fd6ced-bced-4e1d-9b67-3b9611e74ac3",
   "metadata": {},
   "outputs": [
    {
     "ename": "SyntaxError",
     "evalue": "EOF while scanning triple-quoted string literal (<string>, line 4)",
     "output_type": "error",
     "traceback": [
      "\u001b[0;31m---------------------------------------------------------------------------\u001b[0m\n\u001b[0;31mSyntaxError\u001b[0m                               Traceback (most recent call last)",
      "File \u001b[0;34m/srv/conda/envs/notebook/lib/python3.7/ast.py\u001b[0m, in \u001b[0;32mparse\u001b[0m:\nLine \u001b[0;34m35\u001b[0m:    \u001b[34mreturn\u001b[39;49;00m \u001b[36mcompile\u001b[39;49;00m(source, filename, mode, PyCF_ONLY_AST)\n",
      "\u001b[0;31mSyntaxError\u001b[0m: EOF while scanning triple-quoted string literal (<string>, line 4)\n\u001b[0;31m---------------------------------------------------------------------------\u001b[0m"
     ]
    }
   ],
   "source": [
    "'''Declared using square brackets [] :\n",
    "footballer = ['MESSI',\n",
    "          'NEYMAR',\n",
    "          'SUAREZ']''"
   ]
  },
  {
   "cell_type": "code",
   "execution_count": 6,
   "id": "fc584a23-233c-4a1b-90fd-a902b56882e9",
   "metadata": {},
   "outputs": [
    {
     "data": {
      "text/plain": [
       "'Declared using braces {} :\\nx = {1 + 2 + 3 + 4 + 5 + 6 +\\n     7 + 8 + 9}'"
      ]
     },
     "execution_count": 6,
     "metadata": {},
     "output_type": "execute_result"
    }
   ],
   "source": [
    "'''Declared using braces {} :\n",
    "x = {1 + 2 + 3 + 4 + 5 + 6 +\n",
    "     7 + 8 + 9}'''"
   ]
  },
  {
   "cell_type": "code",
   "execution_count": 7,
   "id": "d986866e-d298-4103-93de-6432a6caaf47",
   "metadata": {},
   "outputs": [
    {
     "data": {
      "text/plain": [
       "'Declared using semicolons(;) :\\nflag = 2; ropes = 3; pole = 4'"
      ]
     },
     "execution_count": 7,
     "metadata": {},
     "output_type": "execute_result"
    }
   ],
   "source": [
    "'''Declared using semicolons(;) :\n",
    "flag = 2; ropes = 3; pole = 4'''"
   ]
  },
  {
   "cell_type": "code",
   "execution_count": 8,
   "id": "17a96cca-e6df-4572-8348-ec75faac4e75",
   "metadata": {},
   "outputs": [
    {
     "data": {
      "text/plain": [
       "'Indentation\\nA block is a combination of all these statements. Block can be regarded as the grouping of statements for a specific purpose. Most of the programming languages like C, C++, Java use braces { } to define a block of code. One of the distinctive features of Python is its use of indentation to highlighting the blocks of code. Whitespace is used for indentation in Python. All statements with the same distance to the right belong to the same block of code. If a block has to be more deeply nested, it is simply indented further to the right. You can understand it better by looking at the following lines of code:'"
      ]
     },
     "execution_count": 8,
     "metadata": {},
     "output_type": "execute_result"
    }
   ],
   "source": [
    "'''Indentation\n",
    "A block is a combination of all these statements. Block can be regarded as the grouping of statements for a specific purpose. Most of the programming languages like C, C++, Java use braces { } to define a block of code. One of the distinctive features of Python is its use of indentation to highlighting the blocks of code. Whitespace is used for indentation in Python. All statements with the same distance to the right belong to the same block of code. If a block has to be more deeply nested, it is simply indented further to the right. You can understand it better by looking at the following lines of code:'''"
   ]
  },
  {
   "cell_type": "code",
   "execution_count": 12,
   "id": "9ea80881-b3c2-4125-b415-831adfde8b5b",
   "metadata": {},
   "outputs": [
    {
     "name": "stdout",
     "output_type": "stream",
     "text": [
      "Logging on to geeksforgeeks...\n",
      "All set !\n"
     ]
    }
   ],
   "source": [
    "# Python program showing\n",
    "# indentation\n",
    "\n",
    "site = 'gfg'\n",
    "\n",
    "if site == 'gfg':\n",
    "\tprint('Logging on to geeksforgeeks...')\n",
    "else:\n",
    "\tprint('retype the URL.')\n",
    "print('All set !')\n",
    "\n",
    "     "
   ]
  },
  {
   "cell_type": "code",
   "execution_count": 13,
   "id": "f8a64680-e95c-4a1a-a1c5-426089c6cbad",
   "metadata": {},
   "outputs": [
    {
     "name": "stdout",
     "output_type": "stream",
     "text": [
      "1\n",
      "2\n",
      "3\n",
      "4\n",
      "5\n"
     ]
    }
   ],
   "source": [
    "# Example 2\n",
    "\n",
    "j = 1\n",
    "while (j<=5):\n",
    "    print(j)\n",
    "    j=j+1"
   ]
  },
  {
   "cell_type": "code",
   "execution_count": 14,
   "id": "6e2b2aa5-b258-475e-bb94-50282ce313a4",
   "metadata": {},
   "outputs": [
    {
     "data": {
      "text/plain": [
       "'To indicate a block of code in Python, you must indent each line of the block by the same whitespace. The two lines of code in the while loop are both indented four spaces. It is required for indicating what block of code a statement belongs to. For example, j=1 and while(j<=5): is not indented, and so it is not within the while block. So, Python code structures by indentation.'"
      ]
     },
     "execution_count": 14,
     "metadata": {},
     "output_type": "execute_result"
    }
   ],
   "source": [
    "'''To indicate a block of code in Python, you must indent each line of the block by the same whitespace. The two lines of code in the while loop are both indented four spaces. It is required for indicating what block of code a statement belongs to. For example, j=1 and while(j<=5): is not indented, and so it is not within the while block. So, Python code structures by indentation.'''"
   ]
  },
  {
   "cell_type": "code",
   "execution_count": 15,
   "id": "02c70128-75b8-48d6-9fcd-0f405557e352",
   "metadata": {},
   "outputs": [
    {
     "data": {
      "text/plain": [
       "'Comments\\nPython developers often make use of the comment system as, without the use of it, things can get real confusing, real fast. Comments are the useful information that the developers provide to make the reader understand the source code. It explains the logic or a part of it used in the code. Comments are usually helpful to someone maintaining or enhancing your code when you are no longer around to answer questions about it. These are often cited as a useful programming convention that does not take part in the output of the program but improves the readability of the whole program. There are two types of comments in Python: \\nSingle line comments: Python single line comment starts with hashtag symbol with no white spaces (#) and lasts till the end of the line. If the comment exceeds one line then put a hashtag on the next line and continue the comment. Python’s single-line comments are proved useful for supplying short explanations for variables, function declarations, and expressions. See the following code snippet demonstrating single line comment:'"
      ]
     },
     "execution_count": 15,
     "metadata": {},
     "output_type": "execute_result"
    }
   ],
   "source": [
    "'''Comments\n",
    "Python developers often make use of the comment system as, without the use of it, things can get real confusing, real fast. Comments are the useful information that the developers provide to make the reader understand the source code. It explains the logic or a part of it used in the code. Comments are usually helpful to someone maintaining or enhancing your code when you are no longer around to answer questions about it. These are often cited as a useful programming convention that does not take part in the output of the program but improves the readability of the whole program. There are two types of comments in Python: \n",
    "Single line comments: Python single line comment starts with hashtag symbol with no white spaces (#) and lasts till the end of the line. If the comment exceeds one line then put a hashtag on the next line and continue the comment. Python’s single-line comments are proved useful for supplying short explanations for variables, function declarations, and expressions. See the following code snippet demonstrating single line comment:'''"
   ]
  },
  {
   "cell_type": "code",
   "execution_count": 16,
   "id": "c45c8067-3e9b-48af-b892-a0931e2f52f1",
   "metadata": {},
   "outputs": [
    {
     "name": "stdout",
     "output_type": "stream",
     "text": [
      "4\n"
     ]
    }
   ],
   "source": [
    "#Example 3\n",
    "a, b = 1, 3\n",
    "sum = a+b\n",
    "print(sum)"
   ]
  },
  {
   "cell_type": "code",
   "execution_count": null,
   "id": "95bc940b-83e6-46e6-aedc-b933a0a54e1d",
   "metadata": {},
   "outputs": [],
   "source": []
  }
 ],
 "metadata": {
  "kernelspec": {
   "display_name": "Python 3.7 (XPython)",
   "language": "python",
   "name": "xpython"
  },
  "language_info": {
   "file_extension": ".py",
   "mimetype": "text/x-python",
   "name": "python",
   "version": "3.7.9"
  }
 },
 "nbformat": 4,
 "nbformat_minor": 5
}
